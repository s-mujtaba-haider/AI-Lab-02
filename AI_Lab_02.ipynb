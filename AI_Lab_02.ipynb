{
  "nbformat": 4,
  "nbformat_minor": 0,
  "metadata": {
    "colab": {
      "provenance": []
    },
    "kernelspec": {
      "name": "python3",
      "display_name": "Python 3"
    },
    "language_info": {
      "name": "python"
    }
  },
  "cells": [
    {
      "cell_type": "code",
      "execution_count": null,
      "metadata": {
        "colab": {
          "base_uri": "https://localhost:8080/"
        },
        "id": "5OOHE5LZDdEA",
        "outputId": "7ca93156-d68a-4840-d666-f5f05d2b026c"
      },
      "outputs": [
        {
          "output_type": "stream",
          "name": "stdout",
          "text": [
            "Chicken : 8\n",
            "Chicken : Many\n"
          ]
        }
      ],
      "source": [
        "# Q - 1\n",
        "def Count(Chicken):\n",
        "  if(Chicken < 10):\n",
        "    print(\"Chicken :\", Chicken)\n",
        "  else:\n",
        "    print(\"Chicken : Many\")\n",
        "\n",
        "Count(8)\n",
        "Count(23)"
      ]
    },
    {
      "cell_type": "code",
      "source": [
        "# Q - 2\n",
        "def Character(Sentence):\n",
        "  sentence = len(Sentence)\n",
        "  if(sentence <= 3):\n",
        "    print(\"Sentence : Empty\")\n",
        "  else:\n",
        "    print(\"Sentence : \", Sentence[0:3] + Sentence[-3:])\n",
        "\n",
        "Character(\"cat\")\n",
        "Character(\"Intelligence\")"
      ],
      "metadata": {
        "colab": {
          "base_uri": "https://localhost:8080/"
        },
        "id": "u-u2Sk9uEHtg",
        "outputId": "20be8a45-bcd6-4ea5-e41b-346b0d2678f5"
      },
      "execution_count": null,
      "outputs": [
        {
          "output_type": "stream",
          "name": "stdout",
          "text": [
            "Sentence : Empty\n",
            "Sentence :  Intnce\n"
          ]
        }
      ]
    },
    {
      "cell_type": "code",
      "source": [
        "# Q - 3\n",
        "\n",
        "def Replace(str):\n",
        "  char = str[0]\n",
        "  first = str[0].lower()\n",
        "  print(\"Sentence : \", char + str[1:].replace(first, '@'))\n",
        "\n",
        "str = 'Ooogle'\n",
        "Replace(str)"
      ],
      "metadata": {
        "colab": {
          "base_uri": "https://localhost:8080/"
        },
        "id": "JjYpyjvjFPaV",
        "outputId": "54df8db4-3e8e-4c8a-e4fb-284aaef29eb8"
      },
      "execution_count": null,
      "outputs": [
        {
          "output_type": "stream",
          "name": "stdout",
          "text": [
            "Sentence :  O@@gle\n"
          ]
        }
      ]
    },
    {
      "cell_type": "code",
      "source": [
        "# Q - 4\n",
        "\n",
        "def Swap(str1, str2):\n",
        "  s1 = str2[0:2] + str1[2:]\n",
        "  s2 = str1[0:2] + str2[2:]\n",
        "  print(\"Sentence : \", s1, \"\", s2)\n",
        "\n",
        "Swap(\"mix\",\"pod\")"
      ],
      "metadata": {
        "colab": {
          "base_uri": "https://localhost:8080/"
        },
        "id": "VYZ2s5EeGbLR",
        "outputId": "8844c470-5566-4a0e-cb4c-c17852d14932"
      },
      "execution_count": null,
      "outputs": [
        {
          "output_type": "stream",
          "name": "stdout",
          "text": [
            "Sentence :  pox  mid\n"
          ]
        }
      ]
    },
    {
      "cell_type": "code",
      "source": [
        "# Q - 5\n",
        "def StringCount(Str):\n",
        "  count = 0\n",
        "  if len(Str) < 2:\n",
        "    print(\"String is less than 2\")\n",
        "  else:\n",
        "    for word in Str:\n",
        "      if word[0] == word[-1]:\n",
        "        count += 1\n",
        "    print(\"Total Words with same first and last characters : \", count)\n",
        "\n",
        "StringCount([\"hello\",\"racecar\", \"aba\"])"
      ],
      "metadata": {
        "colab": {
          "base_uri": "https://localhost:8080/"
        },
        "id": "stQo6Rs2H3Bf",
        "outputId": "429beb79-ad04-4faa-ea80-e8f0b96e0770"
      },
      "execution_count": null,
      "outputs": [
        {
          "output_type": "stream",
          "name": "stdout",
          "text": [
            "Total Words with same first and last characters :  2\n"
          ]
        }
      ]
    },
    {
      "cell_type": "code",
      "source": [
        "# Q - 6\n",
        "def GroupStr(lst):\n",
        "  for word in lst:\n",
        "    if word.startswith('a'):\n",
        "      print(word)\n",
        "  for word in lst:\n",
        "    if not word.startswith('a'):\n",
        "      print(word)\n",
        "\n",
        "GroupStr([\"hello\",\"racecar\", \"aba\"])"
      ],
      "metadata": {
        "colab": {
          "base_uri": "https://localhost:8080/"
        },
        "id": "ADBboJyZI3lo",
        "outputId": "0a6f89bd-fae3-434b-b8cf-1ad62725f681"
      },
      "execution_count": null,
      "outputs": [
        {
          "output_type": "stream",
          "name": "stdout",
          "text": [
            "aba\n",
            "hello\n",
            "racecar\n"
          ]
        }
      ]
    },
    {
      "cell_type": "code",
      "source": [
        "# Q - 7\n",
        "def LastEle(tup):\n",
        "  print(\"Sorted Tuple : \", sorted(tup, key = lambda x: x[-1]))\n",
        "\n",
        "LastEle([(1, 7), (1, 3), (3, 4, 5), (2, 2)])"
      ],
      "metadata": {
        "colab": {
          "base_uri": "https://localhost:8080/"
        },
        "id": "4hjnOCI1MnhE",
        "outputId": "8d493c69-2485-44ac-939d-649da7b0d4da"
      },
      "execution_count": null,
      "outputs": [
        {
          "output_type": "stream",
          "name": "stdout",
          "text": [
            "Sorted Tuple :  [(2, 2), (1, 3), (3, 4, 5), (1, 7)]\n"
          ]
        }
      ]
    },
    {
      "cell_type": "code",
      "source": [
        "# Q - 8\n",
        "def Palindrome(sentence):\n",
        "    sentence = ''.join(char.lower() for char in sentence if char.isalnum())\n",
        "\n",
        "    s = 0\n",
        "    e = len(sentence) - 1\n",
        "\n",
        "    while s<e:\n",
        "      if sentence[s] != sentence[e]:\n",
        "        return False\n",
        "      s += 1\n",
        "      e -= 1\n",
        "    return True\n",
        "\n",
        "print(Palindrome(\"A man, a plan, a canal: Panama\"))"
      ],
      "metadata": {
        "colab": {
          "base_uri": "https://localhost:8080/"
        },
        "id": "yOq5gPElNCSN",
        "outputId": "2b8b94f1-3fad-4d1d-d942-6155abecb91f"
      },
      "execution_count": null,
      "outputs": [
        {
          "output_type": "stream",
          "name": "stdout",
          "text": [
            "True\n"
          ]
        }
      ]
    },
    {
      "cell_type": "code",
      "source": [
        "# Q - 9\n",
        "\n",
        "def flatten(Lst):\n",
        "  flat = sum(Lst,[])\n",
        "  print(flat)\n",
        "flatten([[1,2,3], [4,5]])"
      ],
      "metadata": {
        "colab": {
          "base_uri": "https://localhost:8080/"
        },
        "id": "hoHcrN3kNiZA",
        "outputId": "78894313-6485-4208-e326-6e9154c42a2a"
      },
      "execution_count": null,
      "outputs": [
        {
          "output_type": "stream",
          "name": "stdout",
          "text": [
            "[1, 2, 3, 4, 5]\n"
          ]
        }
      ]
    },
    {
      "cell_type": "code",
      "source": [
        "# Q - 10\n",
        "\n",
        "def Common(list1, list2):\n",
        "    comon = list(set(list1).intersection(set(list2)))\n",
        "    print(\"Common Are : \", comon)\n",
        "\n",
        "l1 = [1, 2, 3, 4, 5]\n",
        "l2 = [3, 4, 5, 6, 7]\n",
        "Common(l1, l2)"
      ],
      "metadata": {
        "id": "Fbb0HkGCOJhC",
        "colab": {
          "base_uri": "https://localhost:8080/"
        },
        "outputId": "9148b133-353a-4bbc-f6e6-a2605e5a3f95"
      },
      "execution_count": null,
      "outputs": [
        {
          "output_type": "stream",
          "name": "stdout",
          "text": [
            "Common Are :  [3, 4, 5]\n"
          ]
        }
      ]
    },
    {
      "cell_type": "code",
      "source": [
        "# Q - 11\n",
        "def Anagram(Str1, Str2):\n",
        "    Str1 = Str1.lower()\n",
        "    Str2 = Str2.lower()\n",
        "    if sorted(Str1) == sorted(Str2):\n",
        "      print(\"Both Strings are Anagrams.\")\n",
        "    else:\n",
        "      print(\"Both Strings are NOT Anagrams.\")\n",
        "\n",
        "Str1 = \"cinema\"\n",
        "Str2 = \"iceman\"\n",
        "Anagram(Str1, Str2)"
      ],
      "metadata": {
        "colab": {
          "base_uri": "https://localhost:8080/"
        },
        "id": "AGN-_L39nLEn",
        "outputId": "8348491d-dd2c-497c-db78-f95e564f3d32"
      },
      "execution_count": null,
      "outputs": [
        {
          "output_type": "stream",
          "name": "stdout",
          "text": [
            "Both Strings are Anagrams.\n"
          ]
        }
      ]
    },
    {
      "cell_type": "code",
      "source": [
        "# Q - 12\n",
        "def Binary(A, target):\n",
        "    s = 0\n",
        "    e = len(A) - 1\n",
        "\n",
        "    while s <= e:\n",
        "        mid = (s + e) // 2\n",
        "        if A[mid] == target:\n",
        "            return  mid\n",
        "        elif A[mid] < target:\n",
        "            s = mid + 1\n",
        "        else:\n",
        "            e = mid - 1\n",
        "\n",
        "    return -1\n",
        "\n",
        "\n",
        "sorted_list = [2,3,4]\n",
        "target_element = 3\n",
        "print(\"Target Value is at Index : \",Binary(sorted_list, target_element))"
      ],
      "metadata": {
        "colab": {
          "base_uri": "https://localhost:8080/"
        },
        "id": "MfYsmOIKnLHB",
        "outputId": "786abd77-8ba3-4e5f-b18c-d1d1cf462c48"
      },
      "execution_count": null,
      "outputs": [
        {
          "output_type": "stream",
          "name": "stdout",
          "text": [
            "Target Value is at Index :  1\n"
          ]
        }
      ]
    },
    {
      "cell_type": "code",
      "source": [
        "# Q - 13\n",
        "def MergeSort(A):\n",
        "    if len(A) <= 1:\n",
        "        return A\n",
        "\n",
        "    mid = len(A) // 2\n",
        "    s = A[:mid]\n",
        "    e = A[mid:]\n",
        "\n",
        "    s = MergeSort(s)\n",
        "    e = MergeSort(e)\n",
        "\n",
        "    return merge(s, e)\n",
        "\n",
        "def merge(s, e):\n",
        "    result = []\n",
        "    s_idx = 0\n",
        "    e_idx = 0\n",
        "\n",
        "    while s_idx < len(s) and e_idx < len(e):\n",
        "        if s[s_idx] < e[e_idx]:\n",
        "            result.append(s[s_idx])\n",
        "            s_idx += 1\n",
        "        else:\n",
        "            result.append(e[e_idx])\n",
        "            e_idx += 1\n",
        "\n",
        "    result.extend(s[s_idx:])\n",
        "    result.extend(e[e_idx:])\n",
        "    return result\n",
        "\n",
        "lst = [3, 7, 2, 9, 5, 1, 8, 4, 6]\n",
        "sortedlist = merge_sort(lst)\n",
        "print(sortedlist)"
      ],
      "metadata": {
        "colab": {
          "base_uri": "https://localhost:8080/"
        },
        "id": "BjWg8qYInLJe",
        "outputId": "9c03ae17-00ac-40dd-f4a5-188012f30f71"
      },
      "execution_count": null,
      "outputs": [
        {
          "output_type": "stream",
          "name": "stdout",
          "text": [
            "[1, 2, 3, 4, 5, 6, 7, 8, 9]\n"
          ]
        }
      ]
    },
    {
      "cell_type": "code",
      "source": [
        "# Q - 14\n",
        "\n",
        "def QuickSort(A):\n",
        "    if len(A) <= 1:\n",
        "        return A\n",
        "\n",
        "    pivot = A[len(A) // 2]\n",
        "    s = [x for x in A if x < pivot]\n",
        "    mid = [x for x in A if x == pivot]\n",
        "    e = [x for x in A if x > pivot]\n",
        "\n",
        "    return QuickSort(s) + mid + QuickSort(e)\n",
        "\n",
        "unsorted_list = [3, 7, 2, 9, 5, 1, 8, 4, 6]\n",
        "sorted_list = QuickSort(unsorted_list)\n",
        "print(sorted_list)"
      ],
      "metadata": {
        "colab": {
          "base_uri": "https://localhost:8080/"
        },
        "id": "-6BcgG0CnLLe",
        "outputId": "7adc9455-d61d-4780-8512-fd0bbf471a5b"
      },
      "execution_count": null,
      "outputs": [
        {
          "output_type": "stream",
          "name": "stdout",
          "text": [
            "[1, 2, 3, 4, 5, 6, 7, 8, 9]\n"
          ]
        }
      ]
    },
    {
      "cell_type": "code",
      "source": [
        "# Q - 15\n",
        "def Frequency(A):\n",
        "    freqdict = {}\n",
        "    for num in A:\n",
        "        if num in freqdict:\n",
        "            freqdict[num] += 1\n",
        "        else:\n",
        "            freqdict[num] = 1\n",
        "    return freqdict\n",
        "\n",
        "lst = [1, 2, 3, 3, 4, 5]\n",
        "print(Frequency(lst))"
      ],
      "metadata": {
        "colab": {
          "base_uri": "https://localhost:8080/"
        },
        "id": "oNH4ZO3onLNR",
        "outputId": "c131f0af-38d2-4990-8522-f680e173cc05"
      },
      "execution_count": null,
      "outputs": [
        {
          "output_type": "stream",
          "name": "stdout",
          "text": [
            "{1: 1, 2: 1, 3: 2, 4: 1, 5: 1}\n"
          ]
        }
      ]
    },
    {
      "cell_type": "code",
      "source": [
        "# Q - 16\n",
        "def count(A):\n",
        "    return len(set(A))\n",
        "\n",
        "lst = [1, 2, 2, 2,3, 2]\n",
        "print(count(lst))"
      ],
      "metadata": {
        "colab": {
          "base_uri": "https://localhost:8080/"
        },
        "id": "LQK4U0vsnLQ3",
        "outputId": "8a2f4e2e-1e04-4998-c186-a76ebda59946"
      },
      "execution_count": null,
      "outputs": [
        {
          "output_type": "stream",
          "name": "stdout",
          "text": [
            "3\n"
          ]
        }
      ]
    },
    {
      "cell_type": "code",
      "source": [
        "# Q - 17\n",
        "def UnionInter(set1, set2):\n",
        "    uniset = set1.union(set2)\n",
        "    interset = set1.intersection(set2)\n",
        "    return uniset, interset\n",
        "\n",
        "set1 = {1, 2, 3, 4, 5}\n",
        "set2 = {4, 5, 6, 7, 8}\n",
        "result = UnionInter(set1, set2)\n",
        "print(result)"
      ],
      "metadata": {
        "colab": {
          "base_uri": "https://localhost:8080/"
        },
        "id": "uh35QWtanRQO",
        "outputId": "08c8887d-28c0-4ad9-b78e-e17d47aaef29"
      },
      "execution_count": null,
      "outputs": [
        {
          "output_type": "stream",
          "name": "stdout",
          "text": [
            "({1, 2, 3, 4, 5, 6, 7, 8}, {4, 5})\n"
          ]
        }
      ]
    },
    {
      "cell_type": "code",
      "source": [
        "# Q - 18\n",
        "def Unique(dictionary):\n",
        "    return list(set(dictionary.values()))\n",
        "\n",
        "my_dict = {'a': 1, 'b': 2, 'c': 3, 'd': 2}\n",
        "print(Unique(my_dict))"
      ],
      "metadata": {
        "colab": {
          "base_uri": "https://localhost:8080/"
        },
        "id": "Q5yCjswLnRSS",
        "outputId": "63f53787-1e1b-42ca-99a1-5b4cc14635f2"
      },
      "execution_count": null,
      "outputs": [
        {
          "output_type": "stream",
          "name": "stdout",
          "text": [
            "[1, 2, 3]\n"
          ]
        }
      ]
    },
    {
      "cell_type": "code",
      "source": [
        "# Q - 19\n",
        "from collections import Counter\n",
        "\n",
        "def CommonKeys(dictionary):\n",
        "    value_counts = Counter(dictionary.values())\n",
        "    max_count = max(value_counts.values())\n",
        "    return [key for key, value in dictionary.items() if value_counts[value] == max_count]\n",
        "\n",
        "my_dict = {'a': 1, 'b': 2, 'c': 2, 'd': 3, 'e': 3}\n",
        "common_keys = CommonKeys(my_dict)\n",
        "print(common_keys)"
      ],
      "metadata": {
        "colab": {
          "base_uri": "https://localhost:8080/"
        },
        "id": "zxiIHE8ZnRUh",
        "outputId": "f574e750-869d-4fd5-94af-ae61339b979f"
      },
      "execution_count": null,
      "outputs": [
        {
          "output_type": "stream",
          "name": "stdout",
          "text": [
            "['b', 'c', 'd', 'e']\n"
          ]
        }
      ]
    },
    {
      "cell_type": "code",
      "source": [
        "# Q - 20\n",
        "def dictionaries(d1, d2):\n",
        "    combined_dict = d2.copy()\n",
        "    combined_dict.update(d1)\n",
        "    return combined_dict\n",
        "\n",
        "dict1 = {'a': 1, 'b': 2}\n",
        "dict2 = {'b': 3, 'c': 4}\n",
        "print(dictionaries(dict1, dict2))"
      ],
      "metadata": {
        "colab": {
          "base_uri": "https://localhost:8080/"
        },
        "id": "HU-I9W5_nRWp",
        "outputId": "894e8086-e300-4c21-e7bb-03e36acb27b9"
      },
      "execution_count": null,
      "outputs": [
        {
          "output_type": "stream",
          "name": "stdout",
          "text": [
            "{'b': 2, 'c': 4, 'a': 1}\n"
          ]
        }
      ]
    },
    {
      "cell_type": "code",
      "source": [
        "# Q - 21\n",
        "def Filter(list_of_dicts, key):\n",
        "    return [d for d in list_of_dicts if key in d]\n",
        "\n",
        "list_of_dicts = [{'a': 1, 'b': 2}, {'b': 3, 'c': 4}, {'a': 5, 'c': 6}]\n",
        "print(Filter(list_of_dicts, 'a'))"
      ],
      "metadata": {
        "colab": {
          "base_uri": "https://localhost:8080/"
        },
        "id": "h_ggRX_wnRY7",
        "outputId": "e3777f1f-9b29-47c3-daf7-7ee27721791a"
      },
      "execution_count": null,
      "outputs": [
        {
          "output_type": "stream",
          "name": "stdout",
          "text": [
            "[{'a': 1, 'b': 2}, {'a': 5, 'c': 6}]\n"
          ]
        }
      ]
    },
    {
      "cell_type": "code",
      "source": [
        "# Q - 22\n",
        "def DuplicatesRemove(arr):\n",
        "    seen = set()\n",
        "    duplicates = set()\n",
        "    for item in arr:\n",
        "        if item in seen:\n",
        "            duplicates.add(item)\n",
        "        else:\n",
        "            seen.add(item)\n",
        "    return list(duplicates)\n",
        "\n",
        "my_list = [1, 2, 2, 3, 4, 4, 5]\n",
        "print(DuplicatesRemove(my_list))"
      ],
      "metadata": {
        "colab": {
          "base_uri": "https://localhost:8080/"
        },
        "id": "AsiVjSrZnRce",
        "outputId": "d4330ee6-a938-44ea-f4d1-7c1bdf7f1a26"
      },
      "execution_count": null,
      "outputs": [
        {
          "output_type": "stream",
          "name": "stdout",
          "text": [
            "[2, 4]\n"
          ]
        }
      ]
    }
  ]
}